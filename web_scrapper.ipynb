{
 "cells": [
  {
   "cell_type": "markdown",
   "metadata": {},
   "source": [
    "# Football News Data Retrieval \n",
    "\n",
    "skysports"
   ]
  },
  {
   "cell_type": "code",
   "execution_count": null,
   "metadata": {},
   "outputs": [],
   "source": [
    "#web scrapper class\n"
   ]
  },
  {
   "cell_type": "code",
   "execution_count": 1,
   "metadata": {},
   "outputs": [],
   "source": [
    "from selenium import webdriver\n",
    "from selenium.webdriver.common.by import By\n",
    "from selenium.webdriver.support.ui import WebDriverWait\n",
    "from selenium.webdriver.support import expected_conditions as EC\n",
    "from selenium.webdriver.chrome.service import Service"
   ]
  },
  {
   "cell_type": "code",
   "execution_count": null,
   "metadata": {},
   "outputs": [
    {
     "name": "stdout",
     "output_type": "stream",
     "text": [
      "Cookie popup accepted.\n",
      "sports button clicked.\n",
      "s_football_button clicked\n",
      "sf_news_button clicked\n",
      "Scraped: Man Utd transfer news: Napoli ready to offer Victor Osimhen as part of Rasmus Hojlund deal - Paper Talk\n",
      "Scraped: Real Madrid 2-0 Arsenal: Ian Wright slams 'disgrace' of a pitch in Gunners' Women's Champions League defeat\n",
      "Scraped: Real Madrid 2-0 Arsenal: Gunners struggle to cope with weather in Women's Champions League quarter-final first leg\n",
      "Scraped: Inside Thomas Tuchel's first England training session ahead of World Cup 2026 Qualifier against Albania\n",
      "Scraped: Nottingham Forest transfers, latest news, rumours and gossip: Live updates, goals and highlights\n",
      "Scraped: EFL transfer news, rumours and gossip for Championship, League One and League Two\n",
      "Scraped: Jean-Philippe Mateta exclusive: Crystal Palace striker reveals he wanted to play on after ear injury\n",
      "Scraped: Jean-Philippe Mateta speaks on his horror incident against Millwall for the first time\n",
      "Scraped: Chelsea transfer news, rumours and gossip: Live updates and latest on deals, signings, loans and contracts\n",
      "Scraped: Aston Villa transfer news, rumours and gossip: Live updates and latest on deals, signings, loans and contracts\n",
      "Scraped: Man Utd transfer news, rumours and gossip: Live updates and latest on deals, signings, loans and contracts\n",
      "Scraped: Man City vs Chelsea: Striker Bunny Shaw ruled out in significant blow to Women's Champions League chances for City\n",
      "Scraped: Manchester United transfer: Christian Eriksen says he expects to leave Old Trafford when his contract expires this summer\n"
     ]
    }
   ],
   "source": [
    "driver = webdriver.Chrome()\n",
    "\n",
    "driver.get(\"https://www.skysports.com/\") #open the web link in chrome browser\n",
    "\n",
    "\n",
    "try:\n",
    "     #Switch to the iframe\n",
    "    WebDriverWait(driver, 10).until(\n",
    "        EC.presence_of_element_located((By.ID, \"sp_message_iframe_1223386\"))  # Using ID of iframe\n",
    "    )\n",
    "    consent_iframe = driver.find_element(By.ID, \"sp_message_iframe_1223386\")\n",
    "    driver.switch_to.frame(consent_iframe)\n",
    "    \n",
    "    cookie_button = WebDriverWait(driver, 12).until(\n",
    "        EC.element_to_be_clickable((By.XPATH, '//*[@id=\"notice\"]/div[5]/button[3]'))\n",
    "    )\n",
    "    cookie_button.click()\n",
    "    #driver.execute_script(\"arguments[0].click();\", cookie_button)\n",
    "    print(\"Cookie popup accepted.\")\n",
    "\n",
    "     #Switch back to the main page\n",
    "    driver.switch_to.default_content()\n",
    "except:\n",
    "    print(\"Failed to locate or click the cookie button.\")\n",
    "\n",
    "\n",
    "try:\n",
    "    ''' Naviagte to -> Sports Tab -> Football tab -> News tab'''\n",
    "    \n",
    "    sports_button = WebDriverWait(driver,9).until(EC.element_to_be_clickable((By.XPATH,'//*[@id=\"site-nav-desktop-sports-more\"]')))\n",
    "    sports_button.click()\n",
    "    print(\"sports button clicked.\")\n",
    "\n",
    "    s_football_button = WebDriverWait(driver,3).until(EC.element_to_be_clickable((By.XPATH,'//*[@id=\"site-nav-desktop-sports-more-nav\"]/div/ul/li[1]/a')))\n",
    "    s_football_button.click()\n",
    "    print('s_football_button clicked')\n",
    "\n",
    "    sf_news_button = WebDriverWait(driver,3).until(EC.element_to_be_clickable((By.XPATH,'//*[@id=\"sdc-site-localnav-body\"]/div/div/ul[1]/li[2]/a')))\n",
    "    sf_news_button.click()\n",
    "    print('sf_news_button clicked')\n",
    "\n",
    "except:\n",
    "    print(\"Failed to locate or click the required buttons\")\n",
    "\n",
    "\n",
    "#get all news links\n",
    "#news_links = driver.find_elements(By.XPATH,'//*[@id=\"sdc-site-localnav-body\"]/div/div/ul[1]/li[2]/a')\n",
    "news_links = driver.find_elements(By.CLASS_NAME, 'sdc-site-tile__headline-link')\n",
    "news_url = [ link.get_attribute('href') for link in news_links] \n",
    "\n",
    "news_data = []\n",
    "\n",
    "#scrape content from each link\n",
    "for url in news_url:\n",
    "    \n",
    "    driver.get(url) #visit article page\n",
    "\n",
    "    try:\n",
    "        #extract headline\n",
    "        headline= WebDriverWait(driver,5).until(EC.element_to_be_clickable((By.XPATH,'//h1'))).text.strip()\n",
    "\n",
    "        #extract content\n",
    "        article = driver.find_elements(By.XPATH, \"//p\")\n",
    "        article_text = \" \".join([p.text.strip() for p in article])\n",
    "\n",
    "    #Store the data\n",
    "        news_data.append({\n",
    "            \"title\": headline,\n",
    "            \"url\": news_url,\n",
    "            \"content\": article_text\n",
    "        })\n",
    "        print(f\"Scraped: {headline}\")\n",
    "\n",
    "    except Exception as e:\n",
    "        print(f\"Failed to scrape {news_url}: {e}\")\n",
    "    \n",
    "\n",
    "#driver.quit()"
   ]
  },
  {
   "cell_type": "code",
   "execution_count": 30,
   "metadata": {},
   "outputs": [
    {
     "name": "stdout",
     "output_type": "stream",
     "text": [
      "<class 'list'>\n",
      "13\n"
     ]
    }
   ],
   "source": [
    "print(type(news_data))\n",
    "print(len(news_data))"
   ]
  },
  {
   "cell_type": "code",
   "execution_count": 26,
   "metadata": {},
   "outputs": [
    {
     "name": "stdout",
     "output_type": "stream",
     "text": [
      "\n",
      " Title: Man Utd transfer news: Napoli ready to offer Victor Osimhen as part of Rasmus Hojlund deal - Paper Talk\n",
      "['https://www.skysports.com/football/transfer-paper-talk/12709/13331637/man-utd-transfer-news-napoli-ready-to-offer-victor-osimhen-as-part-of-rasmus-hojlund-deal-paper-talk', 'https://www.skysports.com/football/news/11095/13331615/real-madrid-2-0-arsenal-ian-wright-slams-disgrace-of-a-pitch-in-gunners-womens-champions-league-defeat', 'https://www.skysports.com/football/real-madrid-women-vs-arsenal-women/report/526917', 'https://www.skysports.com/football/news/12016/13331541/inside-thomas-tuchels-first-england-training-session-ahead-of-world-cup-2026-qualifier-against-albania', 'https://www.skysports.com/football/live-blog/11095/13279316/nottingham-forest-transfers-latest-news-rumours-and-gossip-live-updates-goals-and-highlights', 'https://www.skysports.com/football/live-blog/11715/13163353/efl-transfer-news-rumours-and-gossip-for-championship-league-one-and-league-two', 'https://www.skysports.com/football/news/11706/13331483/jean-philippe-mateta-exclusive-crystal-palace-striker-reveals-he-wanted-to-play-on-after-ear-injury', 'https://www.skysports.com/football/video/19530/13331527/exclusive-mateta-speaks-on-his-horror-incident-against-millwall-for-the-first-time', 'https://www.skysports.com/football/live-blog/11668/13025497/chelsea-transfer-news-rumours-and-gossip-live-updates-and-latest-on-deals-signings-loans-and-contracts', 'https://www.skysports.com/football/live-blog/11677/13025491/aston-villa-transfer-news-rumours-and-gossip-live-updates-and-latest-on-deals-signings-loans-and-contracts', 'https://www.skysports.com/football/live-blog/11667/13025492/man-utd-transfer-news-rumours-and-gossip-live-updates-and-latest-on-deals-signings-loans-and-contracts', 'https://www.skysports.com/football/news/37000/13331471/man-city-vs-chelsea-striker-bunny-shaw-ruled-out-in-significant-blow-to-womens-champions-league-chances-for-city', 'https://www.skysports.com/football/news/11667/13331427/manchester-united-transfer-christian-eriksen-says-he-expects-to-leave-old-trafford-when-his-contract-expires-this-summer']\n",
      "Contet Preview: Transfer Centre Plus: Man Utd  ...\n",
      "\n",
      " Title: Real Madrid 2-0 Arsenal: Ian Wright slams 'disgrace' of a pitch in Gunners' Women's Champions League defeat\n",
      "['https://www.skysports.com/football/transfer-paper-talk/12709/13331637/man-utd-transfer-news-napoli-ready-to-offer-victor-osimhen-as-part-of-rasmus-hojlund-deal-paper-talk', 'https://www.skysports.com/football/news/11095/13331615/real-madrid-2-0-arsenal-ian-wright-slams-disgrace-of-a-pitch-in-gunners-womens-champions-league-defeat', 'https://www.skysports.com/football/real-madrid-women-vs-arsenal-women/report/526917', 'https://www.skysports.com/football/news/12016/13331541/inside-thomas-tuchels-first-england-training-session-ahead-of-world-cup-2026-qualifier-against-albania', 'https://www.skysports.com/football/live-blog/11095/13279316/nottingham-forest-transfers-latest-news-rumours-and-gossip-live-updates-goals-and-highlights', 'https://www.skysports.com/football/live-blog/11715/13163353/efl-transfer-news-rumours-and-gossip-for-championship-league-one-and-league-two', 'https://www.skysports.com/football/news/11706/13331483/jean-philippe-mateta-exclusive-crystal-palace-striker-reveals-he-wanted-to-play-on-after-ear-injury', 'https://www.skysports.com/football/video/19530/13331527/exclusive-mateta-speaks-on-his-horror-incident-against-millwall-for-the-first-time', 'https://www.skysports.com/football/live-blog/11668/13025497/chelsea-transfer-news-rumours-and-gossip-live-updates-and-latest-on-deals-signings-loans-and-contracts', 'https://www.skysports.com/football/live-blog/11677/13025491/aston-villa-transfer-news-rumours-and-gossip-live-updates-and-latest-on-deals-signings-loans-and-contracts', 'https://www.skysports.com/football/live-blog/11667/13025492/man-utd-transfer-news-rumours-and-gossip-live-updates-and-latest-on-deals-signings-loans-and-contracts', 'https://www.skysports.com/football/news/37000/13331471/man-city-vs-chelsea-striker-bunny-shaw-ruled-out-in-significant-blow-to-womens-champions-league-chances-for-city', 'https://www.skysports.com/football/news/11667/13331427/manchester-united-transfer-christian-eriksen-says-he-expects-to-leave-old-trafford-when-his-contract-expires-this-summer']\n",
      "Contet Preview: Football Heavy rain in Madrid  ...\n",
      "\n",
      " Title: Real Madrid 2-0 Arsenal: Gunners struggle to cope with weather in Women's Champions League quarter-final first leg\n",
      "['https://www.skysports.com/football/transfer-paper-talk/12709/13331637/man-utd-transfer-news-napoli-ready-to-offer-victor-osimhen-as-part-of-rasmus-hojlund-deal-paper-talk', 'https://www.skysports.com/football/news/11095/13331615/real-madrid-2-0-arsenal-ian-wright-slams-disgrace-of-a-pitch-in-gunners-womens-champions-league-defeat', 'https://www.skysports.com/football/real-madrid-women-vs-arsenal-women/report/526917', 'https://www.skysports.com/football/news/12016/13331541/inside-thomas-tuchels-first-england-training-session-ahead-of-world-cup-2026-qualifier-against-albania', 'https://www.skysports.com/football/live-blog/11095/13279316/nottingham-forest-transfers-latest-news-rumours-and-gossip-live-updates-goals-and-highlights', 'https://www.skysports.com/football/live-blog/11715/13163353/efl-transfer-news-rumours-and-gossip-for-championship-league-one-and-league-two', 'https://www.skysports.com/football/news/11706/13331483/jean-philippe-mateta-exclusive-crystal-palace-striker-reveals-he-wanted-to-play-on-after-ear-injury', 'https://www.skysports.com/football/video/19530/13331527/exclusive-mateta-speaks-on-his-horror-incident-against-millwall-for-the-first-time', 'https://www.skysports.com/football/live-blog/11668/13025497/chelsea-transfer-news-rumours-and-gossip-live-updates-and-latest-on-deals-signings-loans-and-contracts', 'https://www.skysports.com/football/live-blog/11677/13025491/aston-villa-transfer-news-rumours-and-gossip-live-updates-and-latest-on-deals-signings-loans-and-contracts', 'https://www.skysports.com/football/live-blog/11667/13025492/man-utd-transfer-news-rumours-and-gossip-live-updates-and-latest-on-deals-signings-loans-and-contracts', 'https://www.skysports.com/football/news/37000/13331471/man-city-vs-chelsea-striker-bunny-shaw-ruled-out-in-significant-blow-to-womens-champions-league-chances-for-city', 'https://www.skysports.com/football/news/11667/13331427/manchester-united-transfer-christian-eriksen-says-he-expects-to-leave-old-trafford-when-his-contract-expires-this-summer']\n",
      "Contet Preview: Football Real Madrid Women vs  ...\n",
      "\n",
      " Title: Inside Thomas Tuchel's first England training session ahead of World Cup 2026 Qualifier against Albania\n",
      "['https://www.skysports.com/football/transfer-paper-talk/12709/13331637/man-utd-transfer-news-napoli-ready-to-offer-victor-osimhen-as-part-of-rasmus-hojlund-deal-paper-talk', 'https://www.skysports.com/football/news/11095/13331615/real-madrid-2-0-arsenal-ian-wright-slams-disgrace-of-a-pitch-in-gunners-womens-champions-league-defeat', 'https://www.skysports.com/football/real-madrid-women-vs-arsenal-women/report/526917', 'https://www.skysports.com/football/news/12016/13331541/inside-thomas-tuchels-first-england-training-session-ahead-of-world-cup-2026-qualifier-against-albania', 'https://www.skysports.com/football/live-blog/11095/13279316/nottingham-forest-transfers-latest-news-rumours-and-gossip-live-updates-goals-and-highlights', 'https://www.skysports.com/football/live-blog/11715/13163353/efl-transfer-news-rumours-and-gossip-for-championship-league-one-and-league-two', 'https://www.skysports.com/football/news/11706/13331483/jean-philippe-mateta-exclusive-crystal-palace-striker-reveals-he-wanted-to-play-on-after-ear-injury', 'https://www.skysports.com/football/video/19530/13331527/exclusive-mateta-speaks-on-his-horror-incident-against-millwall-for-the-first-time', 'https://www.skysports.com/football/live-blog/11668/13025497/chelsea-transfer-news-rumours-and-gossip-live-updates-and-latest-on-deals-signings-loans-and-contracts', 'https://www.skysports.com/football/live-blog/11677/13025491/aston-villa-transfer-news-rumours-and-gossip-live-updates-and-latest-on-deals-signings-loans-and-contracts', 'https://www.skysports.com/football/live-blog/11667/13025492/man-utd-transfer-news-rumours-and-gossip-live-updates-and-latest-on-deals-signings-loans-and-contracts', 'https://www.skysports.com/football/news/37000/13331471/man-city-vs-chelsea-striker-bunny-shaw-ruled-out-in-significant-blow-to-womens-champions-league-chances-for-city', 'https://www.skysports.com/football/news/11667/13331427/manchester-united-transfer-christian-eriksen-says-he-expects-to-leave-old-trafford-when-his-contract-expires-this-summer']\n",
      "Contet Preview: Football Thomas Tuchel has tak ...\n",
      "\n",
      " Title: Nottingham Forest transfers, latest news, rumours and gossip: Live updates, goals and highlights\n",
      "['https://www.skysports.com/football/transfer-paper-talk/12709/13331637/man-utd-transfer-news-napoli-ready-to-offer-victor-osimhen-as-part-of-rasmus-hojlund-deal-paper-talk', 'https://www.skysports.com/football/news/11095/13331615/real-madrid-2-0-arsenal-ian-wright-slams-disgrace-of-a-pitch-in-gunners-womens-champions-league-defeat', 'https://www.skysports.com/football/real-madrid-women-vs-arsenal-women/report/526917', 'https://www.skysports.com/football/news/12016/13331541/inside-thomas-tuchels-first-england-training-session-ahead-of-world-cup-2026-qualifier-against-albania', 'https://www.skysports.com/football/live-blog/11095/13279316/nottingham-forest-transfers-latest-news-rumours-and-gossip-live-updates-goals-and-highlights', 'https://www.skysports.com/football/live-blog/11715/13163353/efl-transfer-news-rumours-and-gossip-for-championship-league-one-and-league-two', 'https://www.skysports.com/football/news/11706/13331483/jean-philippe-mateta-exclusive-crystal-palace-striker-reveals-he-wanted-to-play-on-after-ear-injury', 'https://www.skysports.com/football/video/19530/13331527/exclusive-mateta-speaks-on-his-horror-incident-against-millwall-for-the-first-time', 'https://www.skysports.com/football/live-blog/11668/13025497/chelsea-transfer-news-rumours-and-gossip-live-updates-and-latest-on-deals-signings-loans-and-contracts', 'https://www.skysports.com/football/live-blog/11677/13025491/aston-villa-transfer-news-rumours-and-gossip-live-updates-and-latest-on-deals-signings-loans-and-contracts', 'https://www.skysports.com/football/live-blog/11667/13025492/man-utd-transfer-news-rumours-and-gossip-live-updates-and-latest-on-deals-signings-loans-and-contracts', 'https://www.skysports.com/football/news/37000/13331471/man-city-vs-chelsea-striker-bunny-shaw-ruled-out-in-significant-blow-to-womens-champions-league-chances-for-city', 'https://www.skysports.com/football/news/11667/13331427/manchester-united-transfer-christian-eriksen-says-he-expects-to-leave-old-trafford-when-his-contract-expires-this-summer']\n",
      "Contet Preview: Football Tuesday 18 March 2025 ...\n",
      "\n",
      " Title: EFL transfer news, rumours and gossip for Championship, League One and League Two\n",
      "['https://www.skysports.com/football/transfer-paper-talk/12709/13331637/man-utd-transfer-news-napoli-ready-to-offer-victor-osimhen-as-part-of-rasmus-hojlund-deal-paper-talk', 'https://www.skysports.com/football/news/11095/13331615/real-madrid-2-0-arsenal-ian-wright-slams-disgrace-of-a-pitch-in-gunners-womens-champions-league-defeat', 'https://www.skysports.com/football/real-madrid-women-vs-arsenal-women/report/526917', 'https://www.skysports.com/football/news/12016/13331541/inside-thomas-tuchels-first-england-training-session-ahead-of-world-cup-2026-qualifier-against-albania', 'https://www.skysports.com/football/live-blog/11095/13279316/nottingham-forest-transfers-latest-news-rumours-and-gossip-live-updates-goals-and-highlights', 'https://www.skysports.com/football/live-blog/11715/13163353/efl-transfer-news-rumours-and-gossip-for-championship-league-one-and-league-two', 'https://www.skysports.com/football/news/11706/13331483/jean-philippe-mateta-exclusive-crystal-palace-striker-reveals-he-wanted-to-play-on-after-ear-injury', 'https://www.skysports.com/football/video/19530/13331527/exclusive-mateta-speaks-on-his-horror-incident-against-millwall-for-the-first-time', 'https://www.skysports.com/football/live-blog/11668/13025497/chelsea-transfer-news-rumours-and-gossip-live-updates-and-latest-on-deals-signings-loans-and-contracts', 'https://www.skysports.com/football/live-blog/11677/13025491/aston-villa-transfer-news-rumours-and-gossip-live-updates-and-latest-on-deals-signings-loans-and-contracts', 'https://www.skysports.com/football/live-blog/11667/13025492/man-utd-transfer-news-rumours-and-gossip-live-updates-and-latest-on-deals-signings-loans-and-contracts', 'https://www.skysports.com/football/news/37000/13331471/man-city-vs-chelsea-striker-bunny-shaw-ruled-out-in-significant-blow-to-womens-champions-league-chances-for-city', 'https://www.skysports.com/football/news/11667/13331427/manchester-united-transfer-christian-eriksen-says-he-expects-to-leave-old-trafford-when-his-contract-expires-this-summer']\n",
      "Contet Preview: Football Tuesday 18 March 2025 ...\n",
      "\n",
      " Title: Jean-Philippe Mateta exclusive: Crystal Palace striker reveals he wanted to play on after ear injury\n",
      "['https://www.skysports.com/football/transfer-paper-talk/12709/13331637/man-utd-transfer-news-napoli-ready-to-offer-victor-osimhen-as-part-of-rasmus-hojlund-deal-paper-talk', 'https://www.skysports.com/football/news/11095/13331615/real-madrid-2-0-arsenal-ian-wright-slams-disgrace-of-a-pitch-in-gunners-womens-champions-league-defeat', 'https://www.skysports.com/football/real-madrid-women-vs-arsenal-women/report/526917', 'https://www.skysports.com/football/news/12016/13331541/inside-thomas-tuchels-first-england-training-session-ahead-of-world-cup-2026-qualifier-against-albania', 'https://www.skysports.com/football/live-blog/11095/13279316/nottingham-forest-transfers-latest-news-rumours-and-gossip-live-updates-goals-and-highlights', 'https://www.skysports.com/football/live-blog/11715/13163353/efl-transfer-news-rumours-and-gossip-for-championship-league-one-and-league-two', 'https://www.skysports.com/football/news/11706/13331483/jean-philippe-mateta-exclusive-crystal-palace-striker-reveals-he-wanted-to-play-on-after-ear-injury', 'https://www.skysports.com/football/video/19530/13331527/exclusive-mateta-speaks-on-his-horror-incident-against-millwall-for-the-first-time', 'https://www.skysports.com/football/live-blog/11668/13025497/chelsea-transfer-news-rumours-and-gossip-live-updates-and-latest-on-deals-signings-loans-and-contracts', 'https://www.skysports.com/football/live-blog/11677/13025491/aston-villa-transfer-news-rumours-and-gossip-live-updates-and-latest-on-deals-signings-loans-and-contracts', 'https://www.skysports.com/football/live-blog/11667/13025492/man-utd-transfer-news-rumours-and-gossip-live-updates-and-latest-on-deals-signings-loans-and-contracts', 'https://www.skysports.com/football/news/37000/13331471/man-city-vs-chelsea-striker-bunny-shaw-ruled-out-in-significant-blow-to-womens-champions-league-chances-for-city', 'https://www.skysports.com/football/news/11667/13331427/manchester-united-transfer-christian-eriksen-says-he-expects-to-leave-old-trafford-when-his-contract-expires-this-summer']\n",
      "Contet Preview: Football Jean-Philippe Mateta  ...\n",
      "\n",
      " Title: Jean-Philippe Mateta speaks on his horror incident against Millwall for the first time\n",
      "['https://www.skysports.com/football/transfer-paper-talk/12709/13331637/man-utd-transfer-news-napoli-ready-to-offer-victor-osimhen-as-part-of-rasmus-hojlund-deal-paper-talk', 'https://www.skysports.com/football/news/11095/13331615/real-madrid-2-0-arsenal-ian-wright-slams-disgrace-of-a-pitch-in-gunners-womens-champions-league-defeat', 'https://www.skysports.com/football/real-madrid-women-vs-arsenal-women/report/526917', 'https://www.skysports.com/football/news/12016/13331541/inside-thomas-tuchels-first-england-training-session-ahead-of-world-cup-2026-qualifier-against-albania', 'https://www.skysports.com/football/live-blog/11095/13279316/nottingham-forest-transfers-latest-news-rumours-and-gossip-live-updates-goals-and-highlights', 'https://www.skysports.com/football/live-blog/11715/13163353/efl-transfer-news-rumours-and-gossip-for-championship-league-one-and-league-two', 'https://www.skysports.com/football/news/11706/13331483/jean-philippe-mateta-exclusive-crystal-palace-striker-reveals-he-wanted-to-play-on-after-ear-injury', 'https://www.skysports.com/football/video/19530/13331527/exclusive-mateta-speaks-on-his-horror-incident-against-millwall-for-the-first-time', 'https://www.skysports.com/football/live-blog/11668/13025497/chelsea-transfer-news-rumours-and-gossip-live-updates-and-latest-on-deals-signings-loans-and-contracts', 'https://www.skysports.com/football/live-blog/11677/13025491/aston-villa-transfer-news-rumours-and-gossip-live-updates-and-latest-on-deals-signings-loans-and-contracts', 'https://www.skysports.com/football/live-blog/11667/13025492/man-utd-transfer-news-rumours-and-gossip-live-updates-and-latest-on-deals-signings-loans-and-contracts', 'https://www.skysports.com/football/news/37000/13331471/man-city-vs-chelsea-striker-bunny-shaw-ruled-out-in-significant-blow-to-womens-champions-league-chances-for-city', 'https://www.skysports.com/football/news/11667/13331427/manchester-united-transfer-christian-eriksen-says-he-expects-to-leave-old-trafford-when-his-contract-expires-this-summer']\n",
      "Contet Preview: Football Tuesday 18 March 2025 ...\n",
      "\n",
      " Title: Chelsea transfer news, rumours and gossip: Live updates and latest on deals, signings, loans and contracts\n",
      "['https://www.skysports.com/football/transfer-paper-talk/12709/13331637/man-utd-transfer-news-napoli-ready-to-offer-victor-osimhen-as-part-of-rasmus-hojlund-deal-paper-talk', 'https://www.skysports.com/football/news/11095/13331615/real-madrid-2-0-arsenal-ian-wright-slams-disgrace-of-a-pitch-in-gunners-womens-champions-league-defeat', 'https://www.skysports.com/football/real-madrid-women-vs-arsenal-women/report/526917', 'https://www.skysports.com/football/news/12016/13331541/inside-thomas-tuchels-first-england-training-session-ahead-of-world-cup-2026-qualifier-against-albania', 'https://www.skysports.com/football/live-blog/11095/13279316/nottingham-forest-transfers-latest-news-rumours-and-gossip-live-updates-goals-and-highlights', 'https://www.skysports.com/football/live-blog/11715/13163353/efl-transfer-news-rumours-and-gossip-for-championship-league-one-and-league-two', 'https://www.skysports.com/football/news/11706/13331483/jean-philippe-mateta-exclusive-crystal-palace-striker-reveals-he-wanted-to-play-on-after-ear-injury', 'https://www.skysports.com/football/video/19530/13331527/exclusive-mateta-speaks-on-his-horror-incident-against-millwall-for-the-first-time', 'https://www.skysports.com/football/live-blog/11668/13025497/chelsea-transfer-news-rumours-and-gossip-live-updates-and-latest-on-deals-signings-loans-and-contracts', 'https://www.skysports.com/football/live-blog/11677/13025491/aston-villa-transfer-news-rumours-and-gossip-live-updates-and-latest-on-deals-signings-loans-and-contracts', 'https://www.skysports.com/football/live-blog/11667/13025492/man-utd-transfer-news-rumours-and-gossip-live-updates-and-latest-on-deals-signings-loans-and-contracts', 'https://www.skysports.com/football/news/37000/13331471/man-city-vs-chelsea-striker-bunny-shaw-ruled-out-in-significant-blow-to-womens-champions-league-chances-for-city', 'https://www.skysports.com/football/news/11667/13331427/manchester-united-transfer-christian-eriksen-says-he-expects-to-leave-old-trafford-when-his-contract-expires-this-summer']\n",
      "Contet Preview: Football Tuesday 18 March 2025 ...\n",
      "\n",
      " Title: Aston Villa transfer news, rumours and gossip: Live updates and latest on deals, signings, loans and contracts\n",
      "['https://www.skysports.com/football/transfer-paper-talk/12709/13331637/man-utd-transfer-news-napoli-ready-to-offer-victor-osimhen-as-part-of-rasmus-hojlund-deal-paper-talk', 'https://www.skysports.com/football/news/11095/13331615/real-madrid-2-0-arsenal-ian-wright-slams-disgrace-of-a-pitch-in-gunners-womens-champions-league-defeat', 'https://www.skysports.com/football/real-madrid-women-vs-arsenal-women/report/526917', 'https://www.skysports.com/football/news/12016/13331541/inside-thomas-tuchels-first-england-training-session-ahead-of-world-cup-2026-qualifier-against-albania', 'https://www.skysports.com/football/live-blog/11095/13279316/nottingham-forest-transfers-latest-news-rumours-and-gossip-live-updates-goals-and-highlights', 'https://www.skysports.com/football/live-blog/11715/13163353/efl-transfer-news-rumours-and-gossip-for-championship-league-one-and-league-two', 'https://www.skysports.com/football/news/11706/13331483/jean-philippe-mateta-exclusive-crystal-palace-striker-reveals-he-wanted-to-play-on-after-ear-injury', 'https://www.skysports.com/football/video/19530/13331527/exclusive-mateta-speaks-on-his-horror-incident-against-millwall-for-the-first-time', 'https://www.skysports.com/football/live-blog/11668/13025497/chelsea-transfer-news-rumours-and-gossip-live-updates-and-latest-on-deals-signings-loans-and-contracts', 'https://www.skysports.com/football/live-blog/11677/13025491/aston-villa-transfer-news-rumours-and-gossip-live-updates-and-latest-on-deals-signings-loans-and-contracts', 'https://www.skysports.com/football/live-blog/11667/13025492/man-utd-transfer-news-rumours-and-gossip-live-updates-and-latest-on-deals-signings-loans-and-contracts', 'https://www.skysports.com/football/news/37000/13331471/man-city-vs-chelsea-striker-bunny-shaw-ruled-out-in-significant-blow-to-womens-champions-league-chances-for-city', 'https://www.skysports.com/football/news/11667/13331427/manchester-united-transfer-christian-eriksen-says-he-expects-to-leave-old-trafford-when-his-contract-expires-this-summer']\n",
      "Contet Preview: Football Tuesday 18 March 2025 ...\n",
      "\n",
      " Title: Man Utd transfer news, rumours and gossip: Live updates and latest on deals, signings, loans and contracts\n",
      "['https://www.skysports.com/football/transfer-paper-talk/12709/13331637/man-utd-transfer-news-napoli-ready-to-offer-victor-osimhen-as-part-of-rasmus-hojlund-deal-paper-talk', 'https://www.skysports.com/football/news/11095/13331615/real-madrid-2-0-arsenal-ian-wright-slams-disgrace-of-a-pitch-in-gunners-womens-champions-league-defeat', 'https://www.skysports.com/football/real-madrid-women-vs-arsenal-women/report/526917', 'https://www.skysports.com/football/news/12016/13331541/inside-thomas-tuchels-first-england-training-session-ahead-of-world-cup-2026-qualifier-against-albania', 'https://www.skysports.com/football/live-blog/11095/13279316/nottingham-forest-transfers-latest-news-rumours-and-gossip-live-updates-goals-and-highlights', 'https://www.skysports.com/football/live-blog/11715/13163353/efl-transfer-news-rumours-and-gossip-for-championship-league-one-and-league-two', 'https://www.skysports.com/football/news/11706/13331483/jean-philippe-mateta-exclusive-crystal-palace-striker-reveals-he-wanted-to-play-on-after-ear-injury', 'https://www.skysports.com/football/video/19530/13331527/exclusive-mateta-speaks-on-his-horror-incident-against-millwall-for-the-first-time', 'https://www.skysports.com/football/live-blog/11668/13025497/chelsea-transfer-news-rumours-and-gossip-live-updates-and-latest-on-deals-signings-loans-and-contracts', 'https://www.skysports.com/football/live-blog/11677/13025491/aston-villa-transfer-news-rumours-and-gossip-live-updates-and-latest-on-deals-signings-loans-and-contracts', 'https://www.skysports.com/football/live-blog/11667/13025492/man-utd-transfer-news-rumours-and-gossip-live-updates-and-latest-on-deals-signings-loans-and-contracts', 'https://www.skysports.com/football/news/37000/13331471/man-city-vs-chelsea-striker-bunny-shaw-ruled-out-in-significant-blow-to-womens-champions-league-chances-for-city', 'https://www.skysports.com/football/news/11667/13331427/manchester-united-transfer-christian-eriksen-says-he-expects-to-leave-old-trafford-when-his-contract-expires-this-summer']\n",
      "Contet Preview: Football Tuesday 18 March 2025 ...\n",
      "\n",
      " Title: Man City vs Chelsea: Striker Bunny Shaw ruled out in significant blow to Women's Champions League chances for City\n",
      "['https://www.skysports.com/football/transfer-paper-talk/12709/13331637/man-utd-transfer-news-napoli-ready-to-offer-victor-osimhen-as-part-of-rasmus-hojlund-deal-paper-talk', 'https://www.skysports.com/football/news/11095/13331615/real-madrid-2-0-arsenal-ian-wright-slams-disgrace-of-a-pitch-in-gunners-womens-champions-league-defeat', 'https://www.skysports.com/football/real-madrid-women-vs-arsenal-women/report/526917', 'https://www.skysports.com/football/news/12016/13331541/inside-thomas-tuchels-first-england-training-session-ahead-of-world-cup-2026-qualifier-against-albania', 'https://www.skysports.com/football/live-blog/11095/13279316/nottingham-forest-transfers-latest-news-rumours-and-gossip-live-updates-goals-and-highlights', 'https://www.skysports.com/football/live-blog/11715/13163353/efl-transfer-news-rumours-and-gossip-for-championship-league-one-and-league-two', 'https://www.skysports.com/football/news/11706/13331483/jean-philippe-mateta-exclusive-crystal-palace-striker-reveals-he-wanted-to-play-on-after-ear-injury', 'https://www.skysports.com/football/video/19530/13331527/exclusive-mateta-speaks-on-his-horror-incident-against-millwall-for-the-first-time', 'https://www.skysports.com/football/live-blog/11668/13025497/chelsea-transfer-news-rumours-and-gossip-live-updates-and-latest-on-deals-signings-loans-and-contracts', 'https://www.skysports.com/football/live-blog/11677/13025491/aston-villa-transfer-news-rumours-and-gossip-live-updates-and-latest-on-deals-signings-loans-and-contracts', 'https://www.skysports.com/football/live-blog/11667/13025492/man-utd-transfer-news-rumours-and-gossip-live-updates-and-latest-on-deals-signings-loans-and-contracts', 'https://www.skysports.com/football/news/37000/13331471/man-city-vs-chelsea-striker-bunny-shaw-ruled-out-in-significant-blow-to-womens-champions-league-chances-for-city', 'https://www.skysports.com/football/news/11667/13331427/manchester-united-transfer-christian-eriksen-says-he-expects-to-leave-old-trafford-when-his-contract-expires-this-summer']\n",
      "Contet Preview: Football Manchester City will  ...\n",
      "\n",
      " Title: Manchester United transfer: Christian Eriksen says he expects to leave Old Trafford when his contract expires this summer\n",
      "['https://www.skysports.com/football/transfer-paper-talk/12709/13331637/man-utd-transfer-news-napoli-ready-to-offer-victor-osimhen-as-part-of-rasmus-hojlund-deal-paper-talk', 'https://www.skysports.com/football/news/11095/13331615/real-madrid-2-0-arsenal-ian-wright-slams-disgrace-of-a-pitch-in-gunners-womens-champions-league-defeat', 'https://www.skysports.com/football/real-madrid-women-vs-arsenal-women/report/526917', 'https://www.skysports.com/football/news/12016/13331541/inside-thomas-tuchels-first-england-training-session-ahead-of-world-cup-2026-qualifier-against-albania', 'https://www.skysports.com/football/live-blog/11095/13279316/nottingham-forest-transfers-latest-news-rumours-and-gossip-live-updates-goals-and-highlights', 'https://www.skysports.com/football/live-blog/11715/13163353/efl-transfer-news-rumours-and-gossip-for-championship-league-one-and-league-two', 'https://www.skysports.com/football/news/11706/13331483/jean-philippe-mateta-exclusive-crystal-palace-striker-reveals-he-wanted-to-play-on-after-ear-injury', 'https://www.skysports.com/football/video/19530/13331527/exclusive-mateta-speaks-on-his-horror-incident-against-millwall-for-the-first-time', 'https://www.skysports.com/football/live-blog/11668/13025497/chelsea-transfer-news-rumours-and-gossip-live-updates-and-latest-on-deals-signings-loans-and-contracts', 'https://www.skysports.com/football/live-blog/11677/13025491/aston-villa-transfer-news-rumours-and-gossip-live-updates-and-latest-on-deals-signings-loans-and-contracts', 'https://www.skysports.com/football/live-blog/11667/13025492/man-utd-transfer-news-rumours-and-gossip-live-updates-and-latest-on-deals-signings-loans-and-contracts', 'https://www.skysports.com/football/news/37000/13331471/man-city-vs-chelsea-striker-bunny-shaw-ruled-out-in-significant-blow-to-womens-champions-league-chances-for-city', 'https://www.skysports.com/football/news/11667/13331427/manchester-united-transfer-christian-eriksen-says-he-expects-to-leave-old-trafford-when-his-contract-expires-this-summer']\n",
      "Contet Preview: Football Christian Eriksen's c ...\n"
     ]
    }
   ],
   "source": [
    "for news in news_data:\n",
    "    print(\"\\n Title:\", news['title'])\n",
    "    print(news['url'])\n",
    "    print(\"Contet Preview:\", news['content'][:30], \"...\")"
   ]
  },
  {
   "cell_type": "code",
   "execution_count": null,
   "metadata": {},
   "outputs": [],
   "source": []
  },
  {
   "cell_type": "markdown",
   "metadata": {},
   "source": [
    "### *Notes:*\n",
    "\n",
    "Challenges Encountered\n",
    "\n",
    "1. was unable to interact with cookie permission page, when skysports page is opened.\n",
    "\n",
    "Discoveries and Solutions\n",
    "\n",
    "1. Checked XPath; ensure it was correct\n",
    "Used Console tab in html of browsers\n",
    "var element = document.evaluate('//*[@id=\"notice\"]/div[5]/button[3]', document, null, XPathResult.FIRST_ORDERED_NODE_TYPE, null).singleNodeValue;console.log(element && element.offsetParent != null); returned \"true\"; means the path was correct\n",
    "\n",
    "2. Adjusted script to explicitly let selenium wait for desire section to load; used method WebDriverWait\n",
    "WebDriverWait(driver, 12).until(EC.element_to_be_clickable((By.XPATH, '//*[@id=\"notice\"]/div[5]/button[3]'))\n",
    "\n",
    "3. Examined \"Elements\" of the webpage; checking if \"button\" was located in 'iframe'. Why?\n",
    "If the popup is inside an iframe, Selenium won’t see it unless you switch to the iframe\n",
    "\n",
    "4. From inspecting the HTML under Elements tab, it was not apparent that the button was located under 'iframe' but it was observed that the title for iframe indicated 'SP COnsent Message'\n",
    "The assumption is that this is related to the cookies popup permission page\n",
    "\n",
    "4. The title=\"SP Consent Message\" suggests it's a privacy or consent management iframe.\n",
    "5. The src URL (https://cdn.privacy-mgmt.com/...) contains \"privacy-mgmt\", which indicates it's handling user consent.\n",
    "6. the script is not clicking the button because it’s inside this iframe, and Selenium cannot interact with elements inside an iframe. Must switch to it first.\n",
    "\n",
    "\n",
    "\n",
    " \n",
    "\n"
   ]
  },
  {
   "cell_type": "markdown",
   "metadata": {},
   "source": []
  },
  {
   "cell_type": "markdown",
   "metadata": {},
   "source": []
  },
  {
   "cell_type": "markdown",
   "metadata": {},
   "source": []
  }
 ],
 "metadata": {
  "kernelspec": {
   "display_name": "prodenv",
   "language": "python",
   "name": "python3"
  },
  "language_info": {
   "codemirror_mode": {
    "name": "ipython",
    "version": 3
   },
   "file_extension": ".py",
   "mimetype": "text/x-python",
   "name": "python",
   "nbconvert_exporter": "python",
   "pygments_lexer": "ipython3",
   "version": "3.9.21"
  }
 },
 "nbformat": 4,
 "nbformat_minor": 2
}
